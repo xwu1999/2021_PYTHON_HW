{
 "cells": [
  {
   "cell_type": "code",
   "execution_count": 1,
   "metadata": {},
   "outputs": [],
   "source": [
    "import pandas as pd \n",
    "import numpy as np \n",
    "import pyodbc\n",
    "import json\n",
    "import datetime #处理日期型数据类型\n",
    "from decimal import Decimal, getcontext #处理decimal的数据类型"
   ]
  },
  {
   "cell_type": "markdown",
   "metadata": {},
   "source": [
    "# 第一步 生成嵌套文件"
   ]
  },
  {
   "cell_type": "code",
   "execution_count": 3,
   "metadata": {},
   "outputs": [
    {
     "name": "stdout",
     "output_type": "stream",
     "text": [
      "(1, 370, 'O', Decimal('172799.49'), datetime.date(1996, 1, 2), '5-LOW          ', 'Clerk#000000951', 0, 'nstructions sleep furiously among ')\n",
      "\n",
      "\n",
      "(1, 1552, 93, 1, Decimal('17.00'), Decimal('24710.35'), Decimal('0.04'), Decimal('0.02'), 'N', 'O', datetime.date(1996, 3, 13), datetime.date(1996, 2, 12), datetime.date(1996, 3, 22), 'DELIVER IN PERSON        ', 'TRUCK     ', 'egular courts above the')\n",
      "\n",
      "\n"
     ]
    }
   ],
   "source": [
    "def GetData(tbl): #参数为数据表名\n",
    "    try:\n",
    "        # 1.创建mysql数据库连接对象connection\n",
    "        conn = pyodbc.connect(\n",
    "        r'DRIVER={ODBC Driver 17 for SQL Server};' \n",
    "        #注：driver这里这样写即表明是用driver连接而不是用dsn，如果这里直接写sqlserver会在linux连接不了，只能在windows连接，linux连接需要写上driver名字\n",
    "        r'SERVER=localhost;'\n",
    "        r'DATABASE=TPCH;'\n",
    "        r'UID=sa;'\n",
    "        r'PWD=*********'\n",
    "        )\n",
    "\n",
    "        cur = conn.cursor()\n",
    "        sql = \"SELECT * FROM \" + tbl\n",
    "        cur.execute(sql) #执行sql命令\n",
    "        data = cur.fetchall() #获取数据\n",
    "        cur.close() #关闭cursor\n",
    "        conn.close() #关闭connection\n",
    "        # # 循环读取元组数据，进行查看\n",
    "        for row in data:\n",
    "            print(row)\n",
    "            print('\\n')\n",
    "            break\n",
    "        return data\n",
    "    except:\n",
    "        print('MySQL connect fail...')\n",
    "\n",
    "#利用Getdata函数，通过数据表名获取数据表中的数据\n",
    "orders = GetData('ORDERS')\n",
    "lineitem = GetData('LINEITEM')\n",
    "    "
   ]
  },
  {
   "cell_type": "code",
   "execution_count": 4,
   "metadata": {},
   "outputs": [
    {
     "name": "stdout",
     "output_type": "stream",
     "text": [
      "15000\n",
      "9\n",
      "60175\n",
      "16\n"
     ]
    }
   ],
   "source": [
    "#查看数据获取是否成功\n",
    "print(len(orders))\n",
    "print(len(orders[0]))\n",
    "print(len(lineitem))\n",
    "print(len(lineitem[0]))"
   ]
  },
  {
   "cell_type": "code",
   "execution_count": 5,
   "metadata": {},
   "outputs": [],
   "source": [
    "#生成order和lineitem嵌套json\n",
    "order_info = {}\n",
    "data = json.loads(json.dumps(order_info))\n",
    "for row in orders:\n",
    "    tmp = {}\n",
    "    namelist = ['O_ORDERKEY','O_CUSTKEY','O_ORDERSTATUS','O_TOTALPRICE','O_ORDERDATE',\n",
    "                'O_ORDERPRIORITY','O_CLERK','O_SHIPPRIORITY','O_COMMENT']\n",
    "    for i in range(len(row)):\n",
    "        tmp[namelist[i]] =row[i]\n",
    "        tmp['LINEITEM_INFO'] = {} #LINEITEM_INFO用于来放LINEITEM表中的信息\n",
    "    data[row[0]] = tmp.copy()\n",
    "for row in lineitem:\n",
    "    tmp = {}\n",
    "    namelist = ['L_ORDERKEY','L_PARTKEY','L_SUPPKEY','L_LINENUMBER','L_QUANTITY','L_EXTENDEDPRICE',\n",
    "                'L_DISCOUNT','L_TAX','L_RETURNFLAG','L_LINESTATUS','L_SHIPDATE','L_COMMITDATE',\n",
    "                'L_RECEIPTDATE','L_SHIPINSTRUCT','L_SHIPMODE','L_COMMENT']\n",
    "    for i in range(len(row)):\n",
    "        tmp[namelist[i]] =row[i]\n",
    "    data.get(tmp.get('L_ORDERKEY')).get('LINEITEM_INFO')[row[3]] = tmp.copy() #将LINEITEM表中的信息放到刚刚的LINEITEM_INFO中去，用订单明细号L_LINENUMBER来做标题\n",
    "\n",
    "\n",
    "#通过O_ORDERKEY，L_ORDERKEY 和L_LINENUMBER 进行检查\n",
    "wrong = False\n",
    "for key1 in data:\n",
    "    if key1 != data[key1]['O_ORDERKEY']: #检查O_ORDERKEY和外部标题是否匹配\n",
    "        print(key1+':O_ORDERKEY  erorr!!!!!')\n",
    "        break\n",
    "    for key2 in data[key1]['LINEITEM_INFO']:   #检查LINEITEM_INFO中的LINEITEM_INFO和其标题是否匹配\n",
    "        if key2 != data[key1]['LINEITEM_INFO'][key2]['L_LINENUMBER']:\n",
    "            print(key1 + ':L_LINENUMBER  erorr!!!!!')\n",
    "            wrong = True\n",
    "            break\n",
    "        if data[key1]['O_ORDERKEY'] != data[key1]['LINEITEM_INFO'][key2]['L_ORDERKEY']: #检查O_ORDERKEY和L_ORDERKEY是否匹配\n",
    "            print(key1 + ':Match  erorr!!!!!')\n",
    "            wrong = True\n",
    "            break\n",
    "    if wrong:\n",
    "        break\n",
    "\n",
    "\n"
   ]
  },
  {
   "cell_type": "code",
   "execution_count": 5,
   "metadata": {},
   "outputs": [
    {
     "ename": "TypeError",
     "evalue": "Object of type date is not JSON serializable",
     "output_type": "error",
     "traceback": [
      "\u001b[0;31m---------------------------------------------------------------------------\u001b[0m",
      "\u001b[0;31mTypeError\u001b[0m                                 Traceback (most recent call last)",
      "\u001b[0;32m/tmp/ipykernel_12265/2954546863.py\u001b[0m in \u001b[0;36m<module>\u001b[0;34m\u001b[0m\n\u001b[1;32m      1\u001b[0m \u001b[0;31m#注意还不可直接将字典data转为json，因为日期格式json格式不能自己处理\u001b[0m\u001b[0;34m\u001b[0m\u001b[0;34m\u001b[0m\u001b[0;34m\u001b[0m\u001b[0m\n\u001b[0;32m----> 2\u001b[0;31m \u001b[0morders_info\u001b[0m \u001b[0;34m=\u001b[0m \u001b[0mjson\u001b[0m\u001b[0;34m.\u001b[0m\u001b[0mdumps\u001b[0m\u001b[0;34m(\u001b[0m\u001b[0mdata\u001b[0m\u001b[0;34m,\u001b[0m\u001b[0msort_keys\u001b[0m\u001b[0;34m=\u001b[0m\u001b[0;32mTrue\u001b[0m\u001b[0;34m,\u001b[0m \u001b[0mensure_ascii\u001b[0m\u001b[0;34m=\u001b[0m\u001b[0;32mFalse\u001b[0m\u001b[0;34m)\u001b[0m\u001b[0;34m\u001b[0m\u001b[0;34m\u001b[0m\u001b[0m\n\u001b[0m",
      "\u001b[0;32m~/.conda/envs/stats/lib/python3.7/json/__init__.py\u001b[0m in \u001b[0;36mdumps\u001b[0;34m(obj, skipkeys, ensure_ascii, check_circular, allow_nan, cls, indent, separators, default, sort_keys, **kw)\u001b[0m\n\u001b[1;32m    236\u001b[0m         \u001b[0mcheck_circular\u001b[0m\u001b[0;34m=\u001b[0m\u001b[0mcheck_circular\u001b[0m\u001b[0;34m,\u001b[0m \u001b[0mallow_nan\u001b[0m\u001b[0;34m=\u001b[0m\u001b[0mallow_nan\u001b[0m\u001b[0;34m,\u001b[0m \u001b[0mindent\u001b[0m\u001b[0;34m=\u001b[0m\u001b[0mindent\u001b[0m\u001b[0;34m,\u001b[0m\u001b[0;34m\u001b[0m\u001b[0;34m\u001b[0m\u001b[0m\n\u001b[1;32m    237\u001b[0m         \u001b[0mseparators\u001b[0m\u001b[0;34m=\u001b[0m\u001b[0mseparators\u001b[0m\u001b[0;34m,\u001b[0m \u001b[0mdefault\u001b[0m\u001b[0;34m=\u001b[0m\u001b[0mdefault\u001b[0m\u001b[0;34m,\u001b[0m \u001b[0msort_keys\u001b[0m\u001b[0;34m=\u001b[0m\u001b[0msort_keys\u001b[0m\u001b[0;34m,\u001b[0m\u001b[0;34m\u001b[0m\u001b[0;34m\u001b[0m\u001b[0m\n\u001b[0;32m--> 238\u001b[0;31m         **kw).encode(obj)\n\u001b[0m\u001b[1;32m    239\u001b[0m \u001b[0;34m\u001b[0m\u001b[0m\n\u001b[1;32m    240\u001b[0m \u001b[0;34m\u001b[0m\u001b[0m\n",
      "\u001b[0;32m~/.conda/envs/stats/lib/python3.7/json/encoder.py\u001b[0m in \u001b[0;36mencode\u001b[0;34m(self, o)\u001b[0m\n\u001b[1;32m    197\u001b[0m         \u001b[0;31m# exceptions aren't as detailed.  The list call should be roughly\u001b[0m\u001b[0;34m\u001b[0m\u001b[0;34m\u001b[0m\u001b[0;34m\u001b[0m\u001b[0m\n\u001b[1;32m    198\u001b[0m         \u001b[0;31m# equivalent to the PySequence_Fast that ''.join() would do.\u001b[0m\u001b[0;34m\u001b[0m\u001b[0;34m\u001b[0m\u001b[0;34m\u001b[0m\u001b[0m\n\u001b[0;32m--> 199\u001b[0;31m         \u001b[0mchunks\u001b[0m \u001b[0;34m=\u001b[0m \u001b[0mself\u001b[0m\u001b[0;34m.\u001b[0m\u001b[0miterencode\u001b[0m\u001b[0;34m(\u001b[0m\u001b[0mo\u001b[0m\u001b[0;34m,\u001b[0m \u001b[0m_one_shot\u001b[0m\u001b[0;34m=\u001b[0m\u001b[0;32mTrue\u001b[0m\u001b[0;34m)\u001b[0m\u001b[0;34m\u001b[0m\u001b[0;34m\u001b[0m\u001b[0m\n\u001b[0m\u001b[1;32m    200\u001b[0m         \u001b[0;32mif\u001b[0m \u001b[0;32mnot\u001b[0m \u001b[0misinstance\u001b[0m\u001b[0;34m(\u001b[0m\u001b[0mchunks\u001b[0m\u001b[0;34m,\u001b[0m \u001b[0;34m(\u001b[0m\u001b[0mlist\u001b[0m\u001b[0;34m,\u001b[0m \u001b[0mtuple\u001b[0m\u001b[0;34m)\u001b[0m\u001b[0;34m)\u001b[0m\u001b[0;34m:\u001b[0m\u001b[0;34m\u001b[0m\u001b[0;34m\u001b[0m\u001b[0m\n\u001b[1;32m    201\u001b[0m             \u001b[0mchunks\u001b[0m \u001b[0;34m=\u001b[0m \u001b[0mlist\u001b[0m\u001b[0;34m(\u001b[0m\u001b[0mchunks\u001b[0m\u001b[0;34m)\u001b[0m\u001b[0;34m\u001b[0m\u001b[0;34m\u001b[0m\u001b[0m\n",
      "\u001b[0;32m~/.conda/envs/stats/lib/python3.7/json/encoder.py\u001b[0m in \u001b[0;36miterencode\u001b[0;34m(self, o, _one_shot)\u001b[0m\n\u001b[1;32m    255\u001b[0m                 \u001b[0mself\u001b[0m\u001b[0;34m.\u001b[0m\u001b[0mkey_separator\u001b[0m\u001b[0;34m,\u001b[0m \u001b[0mself\u001b[0m\u001b[0;34m.\u001b[0m\u001b[0mitem_separator\u001b[0m\u001b[0;34m,\u001b[0m \u001b[0mself\u001b[0m\u001b[0;34m.\u001b[0m\u001b[0msort_keys\u001b[0m\u001b[0;34m,\u001b[0m\u001b[0;34m\u001b[0m\u001b[0;34m\u001b[0m\u001b[0m\n\u001b[1;32m    256\u001b[0m                 self.skipkeys, _one_shot)\n\u001b[0;32m--> 257\u001b[0;31m         \u001b[0;32mreturn\u001b[0m \u001b[0m_iterencode\u001b[0m\u001b[0;34m(\u001b[0m\u001b[0mo\u001b[0m\u001b[0;34m,\u001b[0m \u001b[0;36m0\u001b[0m\u001b[0;34m)\u001b[0m\u001b[0;34m\u001b[0m\u001b[0;34m\u001b[0m\u001b[0m\n\u001b[0m\u001b[1;32m    258\u001b[0m \u001b[0;34m\u001b[0m\u001b[0m\n\u001b[1;32m    259\u001b[0m def _make_iterencode(markers, _default, _encoder, _indent, _floatstr,\n",
      "\u001b[0;32m~/.conda/envs/stats/lib/python3.7/json/encoder.py\u001b[0m in \u001b[0;36mdefault\u001b[0;34m(self, o)\u001b[0m\n\u001b[1;32m    177\u001b[0m \u001b[0;34m\u001b[0m\u001b[0m\n\u001b[1;32m    178\u001b[0m         \"\"\"\n\u001b[0;32m--> 179\u001b[0;31m         raise TypeError(f'Object of type {o.__class__.__name__} '\n\u001b[0m\u001b[1;32m    180\u001b[0m                         f'is not JSON serializable')\n\u001b[1;32m    181\u001b[0m \u001b[0;34m\u001b[0m\u001b[0m\n",
      "\u001b[0;31mTypeError\u001b[0m: Object of type date is not JSON serializable"
     ]
    }
   ],
   "source": [
    "#注意还不可直接将字典data转为json，因为日期格式json格式不能自己处理\n",
    "orders_info = json.dumps(data,sort_keys=True, ensure_ascii=False)"
   ]
  },
  {
   "cell_type": "code",
   "execution_count": null,
   "metadata": {},
   "outputs": [
    {
     "ename": "TypeError",
     "evalue": "Object of type Decimal is not JSON serializable",
     "output_type": "error",
     "traceback": [
      "\u001b[0;31m---------------------------------------------------------------------------\u001b[0m",
      "\u001b[0;31mTypeError\u001b[0m                                 Traceback (most recent call last)",
      "\u001b[0;32m/tmp/ipykernel_19099/2239648321.py\u001b[0m in \u001b[0;36m<module>\u001b[0;34m\u001b[0m\n\u001b[1;32m     13\u001b[0m \u001b[0;34m\u001b[0m\u001b[0m\n\u001b[1;32m     14\u001b[0m \u001b[0;31m#在使用json.dumps时指定类即可\u001b[0m\u001b[0;34m\u001b[0m\u001b[0;34m\u001b[0m\u001b[0;34m\u001b[0m\u001b[0m\n\u001b[0;32m---> 15\u001b[0;31m \u001b[0morders_info\u001b[0m \u001b[0;34m=\u001b[0m \u001b[0mjson\u001b[0m\u001b[0;34m.\u001b[0m\u001b[0mdumps\u001b[0m\u001b[0;34m(\u001b[0m\u001b[0mdata\u001b[0m\u001b[0;34m,\u001b[0m\u001b[0mensure_ascii\u001b[0m\u001b[0;34m=\u001b[0m\u001b[0;32mFalse\u001b[0m\u001b[0;34m,\u001b[0m\u001b[0mcls\u001b[0m\u001b[0;34m=\u001b[0m\u001b[0mComplexEncoder\u001b[0m\u001b[0;34m)\u001b[0m\u001b[0;34m\u001b[0m\u001b[0;34m\u001b[0m\u001b[0m\n\u001b[0m",
      "\u001b[0;32m~/.conda/envs/stats/lib/python3.7/json/__init__.py\u001b[0m in \u001b[0;36mdumps\u001b[0;34m(obj, skipkeys, ensure_ascii, check_circular, allow_nan, cls, indent, separators, default, sort_keys, **kw)\u001b[0m\n\u001b[1;32m    236\u001b[0m         \u001b[0mcheck_circular\u001b[0m\u001b[0;34m=\u001b[0m\u001b[0mcheck_circular\u001b[0m\u001b[0;34m,\u001b[0m \u001b[0mallow_nan\u001b[0m\u001b[0;34m=\u001b[0m\u001b[0mallow_nan\u001b[0m\u001b[0;34m,\u001b[0m \u001b[0mindent\u001b[0m\u001b[0;34m=\u001b[0m\u001b[0mindent\u001b[0m\u001b[0;34m,\u001b[0m\u001b[0;34m\u001b[0m\u001b[0;34m\u001b[0m\u001b[0m\n\u001b[1;32m    237\u001b[0m         \u001b[0mseparators\u001b[0m\u001b[0;34m=\u001b[0m\u001b[0mseparators\u001b[0m\u001b[0;34m,\u001b[0m \u001b[0mdefault\u001b[0m\u001b[0;34m=\u001b[0m\u001b[0mdefault\u001b[0m\u001b[0;34m,\u001b[0m \u001b[0msort_keys\u001b[0m\u001b[0;34m=\u001b[0m\u001b[0msort_keys\u001b[0m\u001b[0;34m,\u001b[0m\u001b[0;34m\u001b[0m\u001b[0;34m\u001b[0m\u001b[0m\n\u001b[0;32m--> 238\u001b[0;31m         **kw).encode(obj)\n\u001b[0m\u001b[1;32m    239\u001b[0m \u001b[0;34m\u001b[0m\u001b[0m\n\u001b[1;32m    240\u001b[0m \u001b[0;34m\u001b[0m\u001b[0m\n",
      "\u001b[0;32m~/.conda/envs/stats/lib/python3.7/json/encoder.py\u001b[0m in \u001b[0;36mencode\u001b[0;34m(self, o)\u001b[0m\n\u001b[1;32m    197\u001b[0m         \u001b[0;31m# exceptions aren't as detailed.  The list call should be roughly\u001b[0m\u001b[0;34m\u001b[0m\u001b[0;34m\u001b[0m\u001b[0;34m\u001b[0m\u001b[0m\n\u001b[1;32m    198\u001b[0m         \u001b[0;31m# equivalent to the PySequence_Fast that ''.join() would do.\u001b[0m\u001b[0;34m\u001b[0m\u001b[0;34m\u001b[0m\u001b[0;34m\u001b[0m\u001b[0m\n\u001b[0;32m--> 199\u001b[0;31m         \u001b[0mchunks\u001b[0m \u001b[0;34m=\u001b[0m \u001b[0mself\u001b[0m\u001b[0;34m.\u001b[0m\u001b[0miterencode\u001b[0m\u001b[0;34m(\u001b[0m\u001b[0mo\u001b[0m\u001b[0;34m,\u001b[0m \u001b[0m_one_shot\u001b[0m\u001b[0;34m=\u001b[0m\u001b[0;32mTrue\u001b[0m\u001b[0;34m)\u001b[0m\u001b[0;34m\u001b[0m\u001b[0;34m\u001b[0m\u001b[0m\n\u001b[0m\u001b[1;32m    200\u001b[0m         \u001b[0;32mif\u001b[0m \u001b[0;32mnot\u001b[0m \u001b[0misinstance\u001b[0m\u001b[0;34m(\u001b[0m\u001b[0mchunks\u001b[0m\u001b[0;34m,\u001b[0m \u001b[0;34m(\u001b[0m\u001b[0mlist\u001b[0m\u001b[0;34m,\u001b[0m \u001b[0mtuple\u001b[0m\u001b[0;34m)\u001b[0m\u001b[0;34m)\u001b[0m\u001b[0;34m:\u001b[0m\u001b[0;34m\u001b[0m\u001b[0;34m\u001b[0m\u001b[0m\n\u001b[1;32m    201\u001b[0m             \u001b[0mchunks\u001b[0m \u001b[0;34m=\u001b[0m \u001b[0mlist\u001b[0m\u001b[0;34m(\u001b[0m\u001b[0mchunks\u001b[0m\u001b[0;34m)\u001b[0m\u001b[0;34m\u001b[0m\u001b[0;34m\u001b[0m\u001b[0m\n",
      "\u001b[0;32m~/.conda/envs/stats/lib/python3.7/json/encoder.py\u001b[0m in \u001b[0;36miterencode\u001b[0;34m(self, o, _one_shot)\u001b[0m\n\u001b[1;32m    255\u001b[0m                 \u001b[0mself\u001b[0m\u001b[0;34m.\u001b[0m\u001b[0mkey_separator\u001b[0m\u001b[0;34m,\u001b[0m \u001b[0mself\u001b[0m\u001b[0;34m.\u001b[0m\u001b[0mitem_separator\u001b[0m\u001b[0;34m,\u001b[0m \u001b[0mself\u001b[0m\u001b[0;34m.\u001b[0m\u001b[0msort_keys\u001b[0m\u001b[0;34m,\u001b[0m\u001b[0;34m\u001b[0m\u001b[0;34m\u001b[0m\u001b[0m\n\u001b[1;32m    256\u001b[0m                 self.skipkeys, _one_shot)\n\u001b[0;32m--> 257\u001b[0;31m         \u001b[0;32mreturn\u001b[0m \u001b[0m_iterencode\u001b[0m\u001b[0;34m(\u001b[0m\u001b[0mo\u001b[0m\u001b[0;34m,\u001b[0m \u001b[0;36m0\u001b[0m\u001b[0;34m)\u001b[0m\u001b[0;34m\u001b[0m\u001b[0;34m\u001b[0m\u001b[0m\n\u001b[0m\u001b[1;32m    258\u001b[0m \u001b[0;34m\u001b[0m\u001b[0m\n\u001b[1;32m    259\u001b[0m def _make_iterencode(markers, _default, _encoder, _indent, _floatstr,\n",
      "\u001b[0;32m/tmp/ipykernel_19099/2239648321.py\u001b[0m in \u001b[0;36mdefault\u001b[0;34m(self, obj)\u001b[0m\n\u001b[1;32m      7\u001b[0m             \u001b[0;32mreturn\u001b[0m \u001b[0mobj\u001b[0m\u001b[0;34m.\u001b[0m\u001b[0mstrftime\u001b[0m\u001b[0;34m(\u001b[0m\u001b[0;34m'%Y-%m-%d'\u001b[0m\u001b[0;34m)\u001b[0m\u001b[0;34m\u001b[0m\u001b[0;34m\u001b[0m\u001b[0m\n\u001b[1;32m      8\u001b[0m         \u001b[0;32melse\u001b[0m\u001b[0;34m:\u001b[0m\u001b[0;34m\u001b[0m\u001b[0;34m\u001b[0m\u001b[0m\n\u001b[0;32m----> 9\u001b[0;31m             \u001b[0;32mreturn\u001b[0m \u001b[0mjson\u001b[0m\u001b[0;34m.\u001b[0m\u001b[0mJSONEncoder\u001b[0m\u001b[0;34m.\u001b[0m\u001b[0mdefault\u001b[0m\u001b[0;34m(\u001b[0m\u001b[0mself\u001b[0m\u001b[0;34m,\u001b[0m \u001b[0mobj\u001b[0m\u001b[0;34m)\u001b[0m\u001b[0;34m\u001b[0m\u001b[0;34m\u001b[0m\u001b[0m\n\u001b[0m\u001b[1;32m     10\u001b[0m \u001b[0;31m# ————————————————\u001b[0m\u001b[0;34m\u001b[0m\u001b[0;34m\u001b[0m\u001b[0;34m\u001b[0m\u001b[0m\n\u001b[1;32m     11\u001b[0m \u001b[0;31m# 版权声明：本文为CSDN博主「IT_xiao_bai」的原创文章，遵循CC 4.0 BY-SA版权协议，转载请附上原文出处链接及本声明。\u001b[0m\u001b[0;34m\u001b[0m\u001b[0;34m\u001b[0m\u001b[0;34m\u001b[0m\u001b[0m\n",
      "\u001b[0;32m~/.conda/envs/stats/lib/python3.7/json/encoder.py\u001b[0m in \u001b[0;36mdefault\u001b[0;34m(self, o)\u001b[0m\n\u001b[1;32m    177\u001b[0m \u001b[0;34m\u001b[0m\u001b[0m\n\u001b[1;32m    178\u001b[0m         \"\"\"\n\u001b[0;32m--> 179\u001b[0;31m         raise TypeError(f'Object of type {o.__class__.__name__} '\n\u001b[0m\u001b[1;32m    180\u001b[0m                         f'is not JSON serializable')\n\u001b[1;32m    181\u001b[0m \u001b[0;34m\u001b[0m\u001b[0m\n",
      "\u001b[0;31mTypeError\u001b[0m: Object of type Decimal is not JSON serializable"
     ]
    }
   ],
   "source": [
    "#日期型数据在转json格式时，会出现错误，于是重写json的类，当遇到日期格式时特殊处理，其余正常\n",
    "\n",
    "class ComplexEncoder(json.JSONEncoder):\n",
    "    def default(self, obj):\n",
    "        if isinstance(obj, datetime.datetime):\n",
    "            return obj.strftime('%Y-%m-%d %H:%M:%S')\n",
    "        elif isinstance(obj, datetime.date):\n",
    "            return obj.strftime('%Y-%m-%d')\n",
    "        else:\n",
    "            return json.JSONEncoder.default(self, obj)\n",
    "\n",
    "#在使用json.dumps时指定类即可解决日期格式，但会发现还有Decimal格式json类也会报错，需要进一步处理\n",
    "orders_info = json.dumps(data,ensure_ascii=False,cls=ComplexEncoder)\n"
   ]
  },
  {
   "cell_type": "code",
   "execution_count": 6,
   "metadata": {},
   "outputs": [],
   "source": [
    "#Decimal数据在json转换时也会出错，于是重写json的类，当遇到日期格式和decimal格式时特殊处理，其余正常\n",
    "class ComplexEncoder(json.JSONEncoder):\n",
    "    def default(self, obj):\n",
    "        if isinstance(obj, datetime.datetime):\n",
    "            return obj.strftime('%Y-%m-%d %H:%M:%S')\n",
    "        elif isinstance(obj, datetime.date):\n",
    "            return obj.strftime('%Y-%m-%d')\n",
    "        elif isinstance(obj, Decimal):\n",
    "            return float(obj) #遇到decimal类型，使用float转换\n",
    "        else:\n",
    "            return json.JSONEncoder.default(self, obj)\n",
    "\n",
    "#在使用json.dumps时指定类即可\n",
    "orders_info = json.dumps(data,ensure_ascii=False,cls=ComplexEncoder)"
   ]
  },
  {
   "cell_type": "code",
   "execution_count": null,
   "metadata": {},
   "outputs": [],
   "source": [
    "f = open(r'./orders_info.json', 'w+')\n",
    "# 写数据\n",
    "f.write(orders_info)\n",
    "# 关闭文件\n",
    "f.close()"
   ]
  },
  {
   "cell_type": "markdown",
   "metadata": {},
   "source": [
    "# 第二步 分区\n",
    "\n",
    "这里使用了两种方法进行分区：\n",
    "\n",
    "1. 直接使用订单数来对订单号进行均分\n",
    "2. 按总的商品数来对订单进行均分"
   ]
  },
  {
   "cell_type": "markdown",
   "metadata": {},
   "source": [
    "## 按订单号均分"
   ]
  },
  {
   "cell_type": "code",
   "execution_count": 7,
   "metadata": {},
   "outputs": [],
   "source": [
    "#按指定分区数量（P 代表 JSON 文件分区数量）将生成的 JSON 文件划分为指定数量（P）的分区，\n",
    "#按订单数进行均分\n",
    "\n",
    "p = 10 #假设分10组\n",
    "\n",
    "with open('./orders_info.json', 'r') as f:\n",
    "    orders_info = json.load(f)\n",
    "len_tot = len(orders_info)\n",
    "\n",
    "orders_div2 = {}\n",
    "#按订单数平分\n",
    "k = int(len_tot/p) #靠0取整，最后一组要记得取全部\n",
    "\n",
    "keys = list(orders_info.keys())\n",
    "for i in range(p):\n",
    "    start = i*k\n",
    "    if i == p-1:\n",
    "        end = len(orders_info)\n",
    "    else:\n",
    "        end = (i+1)*k\n",
    "    dic_tmp = {}\n",
    "    for key1 in keys[start:end]:\n",
    "        dic_tmp[key1] = orders_info[key1]\n",
    "    name = 'group'+str(i+1)\n",
    "    orders_div2[name] = dic_tmp"
   ]
  },
  {
   "cell_type": "code",
   "execution_count": 10,
   "metadata": {},
   "outputs": [
    {
     "name": "stdout",
     "output_type": "stream",
     "text": [
      "10\n",
      "\n",
      "\n",
      "group1\n",
      "1500\n",
      "lineitemlen:6005\n",
      "group2\n",
      "1500\n",
      "lineitemlen:5952\n",
      "group3\n",
      "1500\n",
      "lineitemlen:6016\n",
      "group4\n",
      "1500\n",
      "lineitemlen:6173\n",
      "group5\n",
      "1500\n",
      "lineitemlen:6055\n",
      "group6\n",
      "1500\n",
      "lineitemlen:5986\n",
      "group7\n",
      "1500\n",
      "lineitemlen:6078\n",
      "group8\n",
      "1500\n",
      "lineitemlen:5949\n",
      "group9\n",
      "1500\n",
      "lineitemlen:5964\n",
      "group10\n",
      "1500\n",
      "lineitemlen:5997\n",
      "\n",
      "\n",
      "15000\n",
      "15000\n"
     ]
    }
   ],
   "source": [
    "#检查分组是否正确\n",
    "print(len(orders_div2))\n",
    "print('\\n')\n",
    "keys = []\n",
    "for key1 in orders_div2:\n",
    "    # print('\\n')\n",
    "    print(key1)\n",
    "    print(len(orders_div2[key1]))\n",
    "    len_tmp = 0\n",
    "    for key2 in orders_div2[key1]:\n",
    "        len_tmp = len_tmp+len(orders_div2[key1][key2][\"LINEITEM_INFO\"])\n",
    "    print('lineitemlen:{}'.format(len_tmp))\n",
    "    keys.extend(orders_div2[key1].keys())\n",
    "print('\\n')\n",
    "print(len(keys))\n",
    "print(len(set(keys)))"
   ]
  },
  {
   "cell_type": "markdown",
   "metadata": {},
   "source": [
    "## 按商品总数进行均分"
   ]
  },
  {
   "cell_type": "code",
   "execution_count": 11,
   "metadata": {},
   "outputs": [],
   "source": [
    "## 按指定分区数量（P 代表 JSON 文件分区数量）将生成的 JSON 文件划分为指定数量（P）的分区\n",
    "#按商品总数进行均分\n",
    "p = 10 #均分10组\n",
    "\n",
    "with open('./orders_info.json', 'r') as f:\n",
    "    orders_info = json.load(f)\n",
    "len_tot = 0\n",
    "for key1 in orders_info:\n",
    "    len_tot =len_tot + len(orders_info[key1]['LINEITEM_INFO']) #计算总的商品数\n",
    "\n",
    "orders_div = {}\n",
    "#按商品数平分去找订单数\n",
    "k = int(len_tot/p) #靠0取整，最后一组要记得取全部\n",
    "count0 = 0\n",
    "for i in range(p-1):\n",
    "    len_tmp = 0\n",
    "    dic_tmp = {}\n",
    "    count = 0\n",
    "    for key1 in orders_info:\n",
    "        count = count + 1 \n",
    "        if count > count0:\n",
    "            dic_tmp[key1] = orders_info[key1]\n",
    "            len_tmp = len_tmp + len(orders_info[key1]['LINEITEM_INFO'])\n",
    "            if len_tmp > k:\n",
    "                count0 = count\n",
    "                break\n",
    "    name = 'group'+str(i+1)\n",
    "    orders_div[name] = dic_tmp\n",
    "\n",
    "#对于最后一组，全部都要包括\n",
    "len_tmp = 0\n",
    "dic_tmp = {}\n",
    "count = 0\n",
    "for key1 in orders_info:\n",
    "    count = count + 1 \n",
    "    if count > count0:\n",
    "        dic_tmp[key1] = orders_info[key1]\n",
    "name = 'group' +str(p)\n",
    "orders_div[name] = dic_tmp"
   ]
  },
  {
   "cell_type": "code",
   "execution_count": 16,
   "metadata": {},
   "outputs": [
    {
     "name": "stdout",
     "output_type": "stream",
     "text": [
      "10\n",
      "\n",
      "\n",
      "group1\n",
      "1503\n",
      "lineitemlen:6018\n",
      "group2\n",
      "1516\n",
      "lineitemlen:6023\n",
      "group3\n",
      "1504\n",
      "lineitemlen:6018\n",
      "group4\n",
      "1458\n",
      "lineitemlen:6018\n",
      "group5\n",
      "1493\n",
      "lineitemlen:6018\n",
      "group6\n",
      "1511\n",
      "lineitemlen:6023\n",
      "group7\n",
      "1485\n",
      "lineitemlen:6020\n",
      "group8\n",
      "1515\n",
      "lineitemlen:6020\n",
      "group9\n",
      "1515\n",
      "lineitemlen:6020\n",
      "group10\n",
      "1500\n",
      "lineitemlen:5997\n",
      "\n",
      "\n",
      "15000\n",
      "15000\n"
     ]
    }
   ],
   "source": [
    "#检查分组是否正确\n",
    "print(len(orders_div))\n",
    "print('\\n')\n",
    "keys = []\n",
    "for key1 in orders_div:\n",
    "    # print('\\n')\n",
    "    print(key1)\n",
    "    print(len(orders_div[key1]))\n",
    "    len_tmp = 0\n",
    "    for key2 in orders_div[key1]:\n",
    "        len_tmp = len_tmp+len(orders_div[key1][key2][\"LINEITEM_INFO\"])\n",
    "    print('lineitemlen:{}'.format(len_tmp))\n",
    "    keys.extend(orders_div[key1].keys())\n",
    "print('\\n')\n",
    "print(len(keys))\n",
    "print(len(set(keys)))"
   ]
  },
  {
   "cell_type": "markdown",
   "metadata": {},
   "source": [
    "# 第三步 探究数据是否对，用两种方法去计算总价格"
   ]
  },
  {
   "cell_type": "code",
   "execution_count": 13,
   "metadata": {},
   "outputs": [],
   "source": [
    "with open('./orders_info.json', 'r') as f:\n",
    "    orders_info = json.load(f)\n",
    "\n",
    "#按\"O_TOTALPRICE\"去计算总价格\n",
    "O_totprice = 0\n",
    "\n",
    "for key1 in orders_info:\n",
    "    O_totprice = O_totprice + orders_info[key1]['O_TOTALPRICE']\n",
    "\n",
    "\n",
    "#按L_QUANTITY,L_EXTENDEDPRICE, L_DISCOUNT, L_TAX\n",
    "L_totprice = 0\n",
    "for key1 in orders_info:\n",
    "    for key2 in orders_info[key1]['LINEITEM_INFO']:\n",
    "        extendprice = orders_info[key1]['LINEITEM_INFO'][key2][\"L_EXTENDEDPRICE\"]\n",
    "        discount = orders_info[key1]['LINEITEM_INFO'][key2][\"L_DISCOUNT\"]\n",
    "        tax = orders_info[key1]['LINEITEM_INFO'][key2][\"L_TAX\"]\n",
    "        L_totprice = L_totprice + extendprice*(1-discount)*(1+tax)\n",
    "    "
   ]
  },
  {
   "cell_type": "code",
   "execution_count": 14,
   "metadata": {},
   "outputs": [
    {
     "name": "stdout",
     "output_type": "stream",
     "text": [
      "0\n"
     ]
    }
   ],
   "source": [
    "with open('./orders_info.json', 'r') as f:\n",
    "    orders_info = json.load(f)\n",
    "\n",
    "#按\"O_TOTALPRICE\"去计算总价格\n",
    "O_totprice = 0\n",
    "#按L_QUANTITY,L_EXTENDEDPRICE, L_DISCOUNT, L_TAX\n",
    "L_totprice = 0\n",
    "count = 0\n",
    "for key1 in orders_info:\n",
    "    tmp_Otot = orders_info[key1]['O_TOTALPRICE']\n",
    "    O_totprice = O_totprice + tmp_Otot\n",
    "    tmp_Ltot = 0\n",
    "    for key2 in orders_info[key1]['LINEITEM_INFO']:\n",
    "        # quantity = orders_info[key1]['LINEITEM_INFO'][key2][\"L_QUANTITY\"]\n",
    "        extendprice = orders_info[key1]['LINEITEM_INFO'][key2][\"L_EXTENDEDPRICE\"]\n",
    "        discount = orders_info[key1]['LINEITEM_INFO'][key2][\"L_DISCOUNT\"]\n",
    "        tax = orders_info[key1]['LINEITEM_INFO'][key2][\"L_TAX\"]\n",
    "        tmp_Ltot = tmp_Ltot + extendprice*(1-discount)*(1+tax)\n",
    "    L_totprice = L_totprice + tmp_Ltot\n",
    "    #可能由于税率或者打折的精度缺失导致差一些，因此做检查\n",
    "    if abs(tmp_Otot-tmp_Ltot) >1: #用1做为阈值，低于1均不认为是计算错误 \n",
    "        print('{}:error!!!!!'.format(key1))\n",
    "        count = count+1\n",
    "print(count)"
   ]
  },
  {
   "cell_type": "code",
   "execution_count": 15,
   "metadata": {},
   "outputs": [
    {
     "name": "stdout",
     "output_type": "stream",
     "text": [
      "2127396830.0200024\n",
      "2127397347.0412745\n"
     ]
    }
   ],
   "source": [
    "print(O_totprice)\n",
    "print(L_totprice)"
   ]
  }
 ],
 "metadata": {
  "kernelspec": {
   "display_name": "stats",
   "language": "python",
   "name": "stats"
  },
  "language_info": {
   "codemirror_mode": {
    "name": "ipython",
    "version": 3
   },
   "file_extension": ".py",
   "mimetype": "text/x-python",
   "name": "python",
   "nbconvert_exporter": "python",
   "pygments_lexer": "ipython3",
   "version": "3.7.11"
  },
  "orig_nbformat": 4
 },
 "nbformat": 4,
 "nbformat_minor": 2
}
